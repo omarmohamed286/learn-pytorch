{
 "cells": [
  {
   "cell_type": "code",
   "execution_count": null,
   "id": "afd57fef-58fa-403e-9ff8-68da45519fd9",
   "metadata": {},
   "outputs": [],
   "source": [
    "import torch\n",
    "from torch import nn\n",
    "import matplotlib.pyplot as plt"
   ]
  },
  {
   "cell_type": "code",
   "execution_count": null,
   "id": "7ce017ad-a917-4e28-8bca-98bfa04c87ea",
   "metadata": {},
   "outputs": [],
   "source": [
    "weight = 0.3\n",
    "bias = 0.9"
   ]
  },
  {
   "cell_type": "code",
   "execution_count": null,
   "id": "9ea34fae-7ee7-4531-9524-a0781dd7e3a9",
   "metadata": {},
   "outputs": [],
   "source": [
    "X = torch.arange(0,100)\n",
    "y = weight * X + bias"
   ]
  },
  {
   "cell_type": "code",
   "execution_count": null,
   "id": "cc68c902-f2ce-4a93-b0b6-ce96284b61f0",
   "metadata": {},
   "outputs": [],
   "source": [
    "len(X)"
   ]
  },
  {
   "cell_type": "code",
   "execution_count": null,
   "id": "a1238c85-3fa4-4701-9674-93f01b5817e8",
   "metadata": {},
   "outputs": [],
   "source": [
    "train_split = int(0.8 * len(X))\n",
    "\n",
    "X_train , y_train = X[:train_split] , y[:train_split]\n",
    "X_test , y_test = X[train_split:] , y[train_split:]\n",
    "\n",
    "len(X_train), len(y_train), len(X_test), len(y_test)"
   ]
  },
  {
   "cell_type": "code",
   "execution_count": null,
   "id": "3d5d553c-9e6b-436d-97d6-f54e473f5acc",
   "metadata": {},
   "outputs": [],
   "source": [
    "def plot_predections(train_data=X_train,train_labels=y_train,test_data=X_test,test_labels=y_test,predections=None):\n",
    "    plt.figure(figsize=(10,7))\n",
    "    plt.scatter(train_data,train_labels,c='b',s=4,label=\"Training Data\")\n",
    "    plt.scatter(test_data,test_labels,c='g',s=4,label=\"Test Data\")\n",
    "    if predections is not None:\n",
    "        plt.scatter(test_data,predections,c='r',s=4,label=\"Predections\")\n",
    "    plt.legend(prop={\"size\": 14})"
   ]
  },
  {
   "cell_type": "code",
   "execution_count": null,
   "id": "b9553a1a-1eb1-4175-9ced-66d8bc59deda",
   "metadata": {},
   "outputs": [],
   "source": [
    "plot_predections()"
   ]
  },
  {
   "cell_type": "code",
   "execution_count": null,
   "id": "10e46a4c-7821-4910-9ea7-34927d37e81f",
   "metadata": {},
   "outputs": [],
   "source": [
    "class LinearRegression(nn.Module):\n",
    "    def __init__(self):\n",
    "        super().__init__()\n",
    "        self.weights = nn.Parameter(torch.randn(1,dtype=torch.float,requires_grad=True))\n",
    "        self.bias = nn.Parameter(torch.randn(1,dtype=torch.float,requires_grad=True))\n",
    "\n",
    "    def forward(self, x):\n",
    "        return self.weights * x + self.bias"
   ]
  },
  {
   "cell_type": "code",
   "execution_count": null,
   "id": "3effd4be-cfa5-4461-9b4d-7bc1e811c2d8",
   "metadata": {},
   "outputs": [],
   "source": [
    "model = LinearRegression()\n",
    "\n",
    "model.parameters()"
   ]
  },
  {
   "cell_type": "code",
   "execution_count": null,
   "id": "c45d7c79-2195-4e11-8ce3-8d4886f49bbb",
   "metadata": {},
   "outputs": [],
   "source": [
    "model.state_dict()"
   ]
  },
  {
   "cell_type": "code",
   "execution_count": null,
   "id": "1727c7aa-69be-45cd-9d97-4f61a5a1e02d",
   "metadata": {},
   "outputs": [],
   "source": [
    "loss_fn = nn.L1Loss()\n",
    "\n",
    "optimizer = torch.optim.SGD(model.parameters(),lr=0.01)"
   ]
  },
  {
   "cell_type": "code",
   "execution_count": null,
   "id": "6c0de54b-8603-4ae3-a317-4a8da67110f5",
   "metadata": {},
   "outputs": [],
   "source": [
    "torch.manual_seed(42)\n",
    "\n",
    "epochs = 1000\n",
    "\n",
    "train_loss_values = []\n",
    "test_loss_values = []\n",
    "epoch_count = []\n",
    "\n",
    "\n",
    "for epoch in range(epochs):\n",
    "    model.train()\n",
    "    y_preds = model.forward(X_train)\n",
    "    loss = loss_fn(y_preds,y_train)\n",
    "    optimizer.zero_grad()\n",
    "    loss.backward()\n",
    "    optimizer.step()\n",
    "    model.eval()\n",
    "    with torch.inference_mode():\n",
    "        test_pred = model.forward(X_test)\n",
    "        test_loss = loss_fn(test_pred,y_test.type(torch.float))\n",
    "\n",
    "        if epoch % 20 == 0:\n",
    "            epoch_count.append(epoch)\n",
    "            train_loss_values.append(loss.detach().numpy())\n",
    "            test_loss_values.append(test_loss.detach().numpy())\n",
    "            print(f\"Epoch: {epoch} | MAE Train Loss: {loss} | MAE Test Loss: {test_loss} \")"
   ]
  },
  {
   "cell_type": "code",
   "execution_count": null,
   "id": "6fb87bd7-da7c-4d96-9568-ca50753645bc",
   "metadata": {},
   "outputs": [],
   "source": [
    "with torch.inference_mode():\n",
    "    preds = model.forward(X_test)\n",
    "preds"
   ]
  },
  {
   "cell_type": "code",
   "execution_count": null,
   "id": "0f43d7cc-15c7-4e20-b242-54c13192a696",
   "metadata": {},
   "outputs": [],
   "source": [
    "plot_predections(predections=preds)"
   ]
  },
  {
   "cell_type": "code",
   "execution_count": null,
   "id": "b083c316-6165-488b-8996-0e1967de7446",
   "metadata": {},
   "outputs": [],
   "source": []
  }
 ],
 "metadata": {
  "kernelspec": {
   "display_name": "Python 3 (ipykernel)",
   "language": "python",
   "name": "python3"
  },
  "language_info": {
   "codemirror_mode": {
    "name": "ipython",
    "version": 3
   },
   "file_extension": ".py",
   "mimetype": "text/x-python",
   "name": "python",
   "nbconvert_exporter": "python",
   "pygments_lexer": "ipython3",
   "version": "3.11.4"
  }
 },
 "nbformat": 4,
 "nbformat_minor": 5
}
