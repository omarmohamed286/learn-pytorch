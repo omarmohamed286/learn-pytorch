{
 "cells": [
  {
   "cell_type": "code",
   "execution_count": 1,
   "id": "181acaf2-14b9-4d6c-bf91-7669e6b2456e",
   "metadata": {},
   "outputs": [
    {
     "data": {
      "text/plain": [
       "tensor([[0.9657, 0.1442, 0.3834, 0.2086, 0.3723, 0.0243, 0.0974],\n",
       "        [0.2394, 0.8538, 0.2602, 0.6847, 0.3506, 0.7884, 0.3740],\n",
       "        [0.1814, 0.0466, 0.7799, 0.4148, 0.3300, 0.5440, 0.9934],\n",
       "        [0.6286, 0.7707, 0.2193, 0.7719, 0.7439, 0.2889, 0.6811],\n",
       "        [0.0084, 0.5248, 0.9488, 0.2108, 0.7456, 0.0107, 0.3681],\n",
       "        [0.3921, 0.5005, 0.0907, 0.3877, 0.5075, 0.0100, 0.6979],\n",
       "        [0.4082, 0.2138, 0.2083, 0.2673, 0.6930, 0.4507, 0.2419]])"
      ]
     },
     "execution_count": 1,
     "metadata": {},
     "output_type": "execute_result"
    }
   ],
   "source": [
    "import torch\n",
    "random_tensor = torch.rand(7,7)\n",
    "random_tensor"
   ]
  },
  {
   "cell_type": "code",
   "execution_count": 2,
   "id": "53a85869-e4ed-45fb-bd88-0aa3a2d3f09a",
   "metadata": {},
   "outputs": [
    {
     "data": {
      "text/plain": [
       "tensor([[0.5623, 0.5687, 0.4437, 0.7348, 0.5329, 0.8121, 0.1551]])"
      ]
     },
     "execution_count": 2,
     "metadata": {},
     "output_type": "execute_result"
    }
   ],
   "source": [
    "another_random_tensor = torch.rand(1,7)\n",
    "another_random_tensor"
   ]
  },
  {
   "cell_type": "code",
   "execution_count": 3,
   "id": "4beb9aff-c451-4ddb-b8ea-f9fb4a613c08",
   "metadata": {},
   "outputs": [
    {
     "data": {
      "text/plain": [
       "tensor([[1.1817],\n",
       "        [2.1240],\n",
       "        [1.5511],\n",
       "        [2.1931],\n",
       "        [1.3423],\n",
       "        [1.2170],\n",
       "        [1.4128]])"
      ]
     },
     "execution_count": 3,
     "metadata": {},
     "output_type": "execute_result"
    }
   ],
   "source": [
    "torch.mm(random_tensor,another_random_tensor.T)"
   ]
  },
  {
   "cell_type": "code",
   "execution_count": 6,
   "id": "5eff4e7f-da96-4fd4-8670-c779e56cae59",
   "metadata": {},
   "outputs": [
    {
     "data": {
      "text/plain": [
       "tensor([[1.8542],\n",
       "        [1.9611],\n",
       "        [2.2884],\n",
       "        [3.0481],\n",
       "        [1.7067],\n",
       "        [2.5290],\n",
       "        [1.7989]])"
      ]
     },
     "execution_count": 6,
     "metadata": {},
     "output_type": "execute_result"
    }
   ],
   "source": [
    "torch.manual_seed(0)\n",
    "\n",
    "random_tensor = torch.rand(7,7)\n",
    "another_random_tensor = torch.rand(1,7)\n",
    "torch.mm(random_tensor,another_random_tensor.T)"
   ]
  },
  {
   "cell_type": "code",
   "execution_count": 7,
   "id": "f4fe4137-8755-4641-aadc-c37d08b76bb4",
   "metadata": {},
   "outputs": [
    {
     "name": "stdout",
     "output_type": "stream",
     "text": [
      "tensor([[0.0290, 0.4019, 0.2598],\n",
      "        [0.3666, 0.0583, 0.7006]]) tensor([[0.0518, 0.4681, 0.6738],\n",
      "        [0.3315, 0.7837, 0.5631]])\n"
     ]
    }
   ],
   "source": [
    "torch.manual_seed(1234)\n",
    "tensor_1 = torch.rand(2,3)\n",
    "tensor_2 = torch.rand(2,3)\n",
    "print(tensor_1,tensor_2)"
   ]
  },
  {
   "cell_type": "code",
   "execution_count": 8,
   "id": "48f390ce-f229-44d9-a6ec-cf94daf9abad",
   "metadata": {},
   "outputs": [
    {
     "data": {
      "text/plain": [
       "tensor([[0.3647, 0.4709],\n",
       "        [0.5184, 0.5617]])"
      ]
     },
     "execution_count": 8,
     "metadata": {},
     "output_type": "execute_result"
    }
   ],
   "source": [
    "torch.mm(tensor_1,tensor_2.T)"
   ]
  },
  {
   "cell_type": "code",
   "execution_count": 9,
   "id": "2442af39-359c-47ec-afe2-17a3993569c6",
   "metadata": {},
   "outputs": [
    {
     "name": "stdout",
     "output_type": "stream",
     "text": [
      "tensor(0.3647) tensor(0.5617)\n"
     ]
    }
   ],
   "source": [
    "tensor = torch.mm(tensor_1,tensor_2.T)\n",
    "print(tensor.min(),tensor.max())"
   ]
  },
  {
   "cell_type": "code",
   "execution_count": 10,
   "id": "009a4e86-f812-44de-887b-b3a7c603161e",
   "metadata": {},
   "outputs": [
    {
     "name": "stdout",
     "output_type": "stream",
     "text": [
      "tensor(3) tensor(0)\n"
     ]
    }
   ],
   "source": [
    "print(tensor.argmax(),tensor.argmin())"
   ]
  },
  {
   "cell_type": "code",
   "execution_count": 16,
   "id": "59836598-af61-44a4-9320-34485bb65d13",
   "metadata": {},
   "outputs": [
    {
     "name": "stdout",
     "output_type": "stream",
     "text": [
      "tensor([[[[0.5349, 0.1988, 0.6592, 0.6569, 0.2328, 0.4251, 0.2071, 0.6297,\n",
      "           0.3653, 0.8513]]]]) torch.Size([1, 1, 1, 10])\n",
      "tensor([0.5349, 0.1988, 0.6592, 0.6569, 0.2328, 0.4251, 0.2071, 0.6297, 0.3653,\n",
      "        0.8513]) torch.Size([10])\n"
     ]
    }
   ],
   "source": [
    "torch.manual_seed(7)\n",
    "\n",
    "random_tensor = torch.rand(1,1,1,10)\n",
    "squeezed = random_tensor.squeeze()\n",
    "print(random_tensor,random_tensor.shape)\n",
    "print(squeezed,squeezed.shape)"
   ]
  },
  {
   "cell_type": "code",
   "execution_count": null,
   "id": "54a5c1a1-997e-4b8d-818c-fe7bbe1e682c",
   "metadata": {},
   "outputs": [],
   "source": []
  }
 ],
 "metadata": {
  "kernelspec": {
   "display_name": "Python 3 (ipykernel)",
   "language": "python",
   "name": "python3"
  },
  "language_info": {
   "codemirror_mode": {
    "name": "ipython",
    "version": 3
   },
   "file_extension": ".py",
   "mimetype": "text/x-python",
   "name": "python",
   "nbconvert_exporter": "python",
   "pygments_lexer": "ipython3",
   "version": "3.11.4"
  }
 },
 "nbformat": 4,
 "nbformat_minor": 5
}
